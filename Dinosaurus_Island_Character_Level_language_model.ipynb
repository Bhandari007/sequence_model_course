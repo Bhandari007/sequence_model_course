{
  "nbformat": 4,
  "nbformat_minor": 0,
  "metadata": {
    "colab": {
      "provenance": [],
      "authorship_tag": "ABX9TyPXv84p9QMopMjeamGSvz0z",
      "include_colab_link": true
    },
    "kernelspec": {
      "name": "python3",
      "display_name": "Python 3"
    },
    "language_info": {
      "name": "python"
    }
  },
  "cells": [
    {
      "cell_type": "markdown",
      "metadata": {
        "id": "view-in-github",
        "colab_type": "text"
      },
      "source": [
        "<a href=\"https://colab.research.google.com/github/Bhandari007/sequence_model_course/blob/main/Dinosaurus_Island_Character_Level_language_model.ipynb\" target=\"_parent\"><img src=\"https://colab.research.google.com/assets/colab-badge.svg\" alt=\"Open In Colab\"/></a>"
      ]
    },
    {
      "cell_type": "code",
      "execution_count": 1,
      "metadata": {
        "colab": {
          "base_uri": "https://localhost:8080/"
        },
        "id": "b4wxErIHYV-W",
        "outputId": "9d2f62b8-4e9e-45cf-d76a-7a2960e94807"
      },
      "outputs": [
        {
          "output_type": "stream",
          "name": "stdout",
          "text": [
            "--2022-10-17 14:41:33--  https://raw.githubusercontent.com/abdur75648/Deep-Learning-Specialization-Coursera/main/Sequence%20Models/week1/w1a2/dinos.txt\n",
            "Resolving raw.githubusercontent.com (raw.githubusercontent.com)... 185.199.108.133, 185.199.109.133, 185.199.110.133, ...\n",
            "Connecting to raw.githubusercontent.com (raw.githubusercontent.com)|185.199.108.133|:443... connected.\n",
            "HTTP request sent, awaiting response... 200 OK\n",
            "Length: 19909 (19K) [text/plain]\n",
            "Saving to: ‘dinos.txt’\n",
            "\n",
            "\rdinos.txt             0%[                    ]       0  --.-KB/s               \rdinos.txt           100%[===================>]  19.44K  --.-KB/s    in 0s      \n",
            "\n",
            "2022-10-17 14:41:33 (82.0 MB/s) - ‘dinos.txt’ saved [19909/19909]\n",
            "\n",
            "--2022-10-17 14:41:34--  https://raw.githubusercontent.com/abdur75648/Deep-Learning-Specialization-Coursera/main/Sequence%20Models/week1/w1a2/generateTestCases.py\n",
            "Resolving raw.githubusercontent.com (raw.githubusercontent.com)... 185.199.108.133, 185.199.109.133, 185.199.110.133, ...\n",
            "Connecting to raw.githubusercontent.com (raw.githubusercontent.com)|185.199.108.133|:443... connected.\n",
            "HTTP request sent, awaiting response... 200 OK\n",
            "Length: 3181 (3.1K) [text/plain]\n",
            "Saving to: ‘generateTestCases.py’\n",
            "\n",
            "generateTestCases.p 100%[===================>]   3.11K  --.-KB/s    in 0s      \n",
            "\n",
            "2022-10-17 14:41:34 (52.4 MB/s) - ‘generateTestCases.py’ saved [3181/3181]\n",
            "\n",
            "--2022-10-17 14:41:34--  https://raw.githubusercontent.com/abdur75648/Deep-Learning-Specialization-Coursera/main/Sequence%20Models/week1/w1a2/shakespeare.txt\n",
            "Resolving raw.githubusercontent.com (raw.githubusercontent.com)... 185.199.110.133, 185.199.109.133, 185.199.108.133, ...\n",
            "Connecting to raw.githubusercontent.com (raw.githubusercontent.com)|185.199.110.133|:443... connected.\n",
            "HTTP request sent, awaiting response... 200 OK\n",
            "Length: 94275 (92K) [text/plain]\n",
            "Saving to: ‘shakespeare.txt’\n",
            "\n",
            "shakespeare.txt     100%[===================>]  92.07K  --.-KB/s    in 0.003s  \n",
            "\n",
            "2022-10-17 14:41:34 (30.7 MB/s) - ‘shakespeare.txt’ saved [94275/94275]\n",
            "\n",
            "--2022-10-17 14:41:34--  https://raw.githubusercontent.com/abdur75648/Deep-Learning-Specialization-Coursera/main/Sequence%20Models/week1/w1a2/shakespeare_utils.py\n",
            "Resolving raw.githubusercontent.com (raw.githubusercontent.com)... 185.199.108.133, 185.199.109.133, 185.199.110.133, ...\n",
            "Connecting to raw.githubusercontent.com (raw.githubusercontent.com)|185.199.108.133|:443... connected.\n",
            "HTTP request sent, awaiting response... 200 OK\n",
            "Length: 5070 (5.0K) [text/plain]\n",
            "Saving to: ‘shakespeare_utils.py’\n",
            "\n",
            "shakespeare_utils.p 100%[===================>]   4.95K  --.-KB/s    in 0s      \n",
            "\n",
            "2022-10-17 14:41:34 (59.9 MB/s) - ‘shakespeare_utils.py’ saved [5070/5070]\n",
            "\n",
            "--2022-10-17 14:41:34--  https://raw.githubusercontent.com/abdur75648/Deep-Learning-Specialization-Coursera/main/Sequence%20Models/week1/w1a2/test_utils.py\n",
            "Resolving raw.githubusercontent.com (raw.githubusercontent.com)... 185.199.108.133, 185.199.109.133, 185.199.110.133, ...\n",
            "Connecting to raw.githubusercontent.com (raw.githubusercontent.com)|185.199.108.133|:443... connected.\n",
            "HTTP request sent, awaiting response... 200 OK\n",
            "Length: 301 [text/plain]\n",
            "Saving to: ‘test_utils.py’\n",
            "\n",
            "test_utils.py       100%[===================>]     301  --.-KB/s    in 0s      \n",
            "\n",
            "2022-10-17 14:41:34 (17.9 MB/s) - ‘test_utils.py’ saved [301/301]\n",
            "\n",
            "--2022-10-17 14:41:34--  https://raw.githubusercontent.com/abdur75648/Deep-Learning-Specialization-Coursera/main/Sequence%20Models/week1/w1a2/utils.py\n",
            "Resolving raw.githubusercontent.com (raw.githubusercontent.com)... 185.199.108.133, 185.199.109.133, 185.199.110.133, ...\n",
            "Connecting to raw.githubusercontent.com (raw.githubusercontent.com)|185.199.108.133|:443... connected.\n",
            "HTTP request sent, awaiting response... 200 OK\n",
            "Length: 4837 (4.7K) [text/plain]\n",
            "Saving to: ‘utils.py’\n",
            "\n",
            "utils.py            100%[===================>]   4.72K  --.-KB/s    in 0s      \n",
            "\n",
            "2022-10-17 14:41:34 (49.7 MB/s) - ‘utils.py’ saved [4837/4837]\n",
            "\n"
          ]
        }
      ],
      "source": [
        "! wget https://raw.githubusercontent.com/abdur75648/Deep-Learning-Specialization-Coursera/main/Sequence%20Models/week1/w1a2/dinos.txt\n",
        "! wget https://raw.githubusercontent.com/abdur75648/Deep-Learning-Specialization-Coursera/main/Sequence%20Models/week1/w1a2/generateTestCases.py\n",
        "! wget https://raw.githubusercontent.com/abdur75648/Deep-Learning-Specialization-Coursera/main/Sequence%20Models/week1/w1a2/shakespeare.txt\n",
        "! wget https://raw.githubusercontent.com/abdur75648/Deep-Learning-Specialization-Coursera/main/Sequence%20Models/week1/w1a2/shakespeare_utils.py\n",
        "! wget https://raw.githubusercontent.com/abdur75648/Deep-Learning-Specialization-Coursera/main/Sequence%20Models/week1/w1a2/test_utils.py\n",
        "! wget https://raw.githubusercontent.com/abdur75648/Deep-Learning-Specialization-Coursera/main/Sequence%20Models/week1/w1a2/utils.py"
      ]
    },
    {
      "cell_type": "code",
      "source": [],
      "metadata": {
        "id": "ZnnRSzMcZCzn"
      },
      "execution_count": null,
      "outputs": []
    }
  ]
}