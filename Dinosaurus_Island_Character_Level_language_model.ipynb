{
  "nbformat": 4,
  "nbformat_minor": 0,
  "metadata": {
    "colab": {
      "provenance": [],
      "authorship_tag": "ABX9TyM8TOup7ivsdEsuDrsAR1Gh",
      "include_colab_link": true
    },
    "kernelspec": {
      "name": "python3",
      "display_name": "Python 3"
    },
    "language_info": {
      "name": "python"
    }
  },
  "cells": [
    {
      "cell_type": "markdown",
      "metadata": {
        "id": "view-in-github",
        "colab_type": "text"
      },
      "source": [
        "<a href=\"https://colab.research.google.com/github/Bhandari007/sequence_model_course/blob/main/Dinosaurus_Island_Character_Level_language_model.ipynb\" target=\"_parent\"><img src=\"https://colab.research.google.com/assets/colab-badge.svg\" alt=\"Open In Colab\"/></a>"
      ]
    },
    {
      "cell_type": "code",
      "execution_count": 1,
      "metadata": {
        "colab": {
          "base_uri": "https://localhost:8080/"
        },
        "id": "b4wxErIHYV-W",
        "outputId": "ee365db5-7727-4fee-f6d9-99c3c07ffaef"
      },
      "outputs": [
        {
          "output_type": "stream",
          "name": "stdout",
          "text": [
            "--2022-10-18 12:09:57--  https://raw.githubusercontent.com/abdur75648/Deep-Learning-Specialization-Coursera/main/Sequence%20Models/week1/w1a2/dinos.txt\n",
            "Resolving raw.githubusercontent.com (raw.githubusercontent.com)... 185.199.108.133, 185.199.109.133, 185.199.110.133, ...\n",
            "Connecting to raw.githubusercontent.com (raw.githubusercontent.com)|185.199.108.133|:443... connected.\n",
            "HTTP request sent, awaiting response... 200 OK\n",
            "Length: 19909 (19K) [text/plain]\n",
            "Saving to: ‘dinos.txt’\n",
            "\n",
            "\rdinos.txt             0%[                    ]       0  --.-KB/s               \rdinos.txt           100%[===================>]  19.44K  --.-KB/s    in 0.001s  \n",
            "\n",
            "2022-10-18 12:09:58 (37.2 MB/s) - ‘dinos.txt’ saved [19909/19909]\n",
            "\n",
            "--2022-10-18 12:09:58--  https://raw.githubusercontent.com/abdur75648/Deep-Learning-Specialization-Coursera/main/Sequence%20Models/week1/w1a2/generateTestCases.py\n",
            "Resolving raw.githubusercontent.com (raw.githubusercontent.com)... 185.199.108.133, 185.199.109.133, 185.199.110.133, ...\n",
            "Connecting to raw.githubusercontent.com (raw.githubusercontent.com)|185.199.108.133|:443... connected.\n",
            "HTTP request sent, awaiting response... 200 OK\n",
            "Length: 3181 (3.1K) [text/plain]\n",
            "Saving to: ‘generateTestCases.py’\n",
            "\n",
            "generateTestCases.p 100%[===================>]   3.11K  --.-KB/s    in 0s      \n",
            "\n",
            "2022-10-18 12:09:58 (45.5 MB/s) - ‘generateTestCases.py’ saved [3181/3181]\n",
            "\n",
            "--2022-10-18 12:09:58--  https://raw.githubusercontent.com/abdur75648/Deep-Learning-Specialization-Coursera/main/Sequence%20Models/week1/w1a2/shakespeare.txt\n",
            "Resolving raw.githubusercontent.com (raw.githubusercontent.com)... 185.199.108.133, 185.199.109.133, 185.199.110.133, ...\n",
            "Connecting to raw.githubusercontent.com (raw.githubusercontent.com)|185.199.108.133|:443... connected.\n",
            "HTTP request sent, awaiting response... 200 OK\n",
            "Length: 94275 (92K) [text/plain]\n",
            "Saving to: ‘shakespeare.txt’\n",
            "\n",
            "shakespeare.txt     100%[===================>]  92.07K  --.-KB/s    in 0.01s   \n",
            "\n",
            "2022-10-18 12:09:58 (6.49 MB/s) - ‘shakespeare.txt’ saved [94275/94275]\n",
            "\n",
            "--2022-10-18 12:09:58--  https://raw.githubusercontent.com/abdur75648/Deep-Learning-Specialization-Coursera/main/Sequence%20Models/week1/w1a2/shakespeare_utils.py\n",
            "Resolving raw.githubusercontent.com (raw.githubusercontent.com)... 185.199.110.133, 185.199.108.133, 185.199.109.133, ...\n",
            "Connecting to raw.githubusercontent.com (raw.githubusercontent.com)|185.199.110.133|:443... connected.\n",
            "HTTP request sent, awaiting response... 200 OK\n",
            "Length: 5070 (5.0K) [text/plain]\n",
            "Saving to: ‘shakespeare_utils.py’\n",
            "\n",
            "shakespeare_utils.p 100%[===================>]   4.95K  --.-KB/s    in 0s      \n",
            "\n",
            "2022-10-18 12:09:58 (26.9 MB/s) - ‘shakespeare_utils.py’ saved [5070/5070]\n",
            "\n",
            "--2022-10-18 12:09:58--  https://raw.githubusercontent.com/abdur75648/Deep-Learning-Specialization-Coursera/main/Sequence%20Models/week1/w1a2/test_utils.py\n",
            "Resolving raw.githubusercontent.com (raw.githubusercontent.com)... 185.199.108.133, 185.199.109.133, 185.199.110.133, ...\n",
            "Connecting to raw.githubusercontent.com (raw.githubusercontent.com)|185.199.108.133|:443... connected.\n",
            "HTTP request sent, awaiting response... 200 OK\n",
            "Length: 301 [text/plain]\n",
            "Saving to: ‘test_utils.py’\n",
            "\n",
            "test_utils.py       100%[===================>]     301  --.-KB/s    in 0s      \n",
            "\n",
            "2022-10-18 12:09:59 (12.2 MB/s) - ‘test_utils.py’ saved [301/301]\n",
            "\n",
            "--2022-10-18 12:09:59--  https://raw.githubusercontent.com/abdur75648/Deep-Learning-Specialization-Coursera/main/Sequence%20Models/week1/w1a2/utils.py\n",
            "Resolving raw.githubusercontent.com (raw.githubusercontent.com)... 185.199.108.133, 185.199.109.133, 185.199.110.133, ...\n",
            "Connecting to raw.githubusercontent.com (raw.githubusercontent.com)|185.199.108.133|:443... connected.\n",
            "HTTP request sent, awaiting response... 200 OK\n",
            "Length: 4837 (4.7K) [text/plain]\n",
            "Saving to: ‘utils.py’\n",
            "\n",
            "utils.py            100%[===================>]   4.72K  --.-KB/s    in 0s      \n",
            "\n",
            "2022-10-18 12:09:59 (52.6 MB/s) - ‘utils.py’ saved [4837/4837]\n",
            "\n"
          ]
        }
      ],
      "source": [
        "! wget https://raw.githubusercontent.com/abdur75648/Deep-Learning-Specialization-Coursera/main/Sequence%20Models/week1/w1a2/dinos.txt\n",
        "! wget https://raw.githubusercontent.com/abdur75648/Deep-Learning-Specialization-Coursera/main/Sequence%20Models/week1/w1a2/generateTestCases.py\n",
        "! wget https://raw.githubusercontent.com/abdur75648/Deep-Learning-Specialization-Coursera/main/Sequence%20Models/week1/w1a2/shakespeare.txt\n",
        "! wget https://raw.githubusercontent.com/abdur75648/Deep-Learning-Specialization-Coursera/main/Sequence%20Models/week1/w1a2/shakespeare_utils.py\n",
        "! wget https://raw.githubusercontent.com/abdur75648/Deep-Learning-Specialization-Coursera/main/Sequence%20Models/week1/w1a2/test_utils.py\n",
        "! wget https://raw.githubusercontent.com/abdur75648/Deep-Learning-Specialization-Coursera/main/Sequence%20Models/week1/w1a2/utils.py"
      ]
    },
    {
      "cell_type": "markdown",
      "source": [
        "# Character Level Language model - Dinosaurus Island\n",
        "\n",
        "**Objectives:**\n",
        "* Store text data for preprocessing using an RNN\n",
        "* Build a character-level text generation model using an RNN\n",
        "* Sample novel sequences in an RNN\n",
        "* Explain the vanishing/ exploding gradient problem in RNNs\n",
        "* Apply gradient clipping as a solution for exploding gradients"
      ],
      "metadata": {
        "id": "ZnnRSzMcZCzn"
      }
    },
    {
      "cell_type": "markdown",
      "source": [
        "# Packages"
      ],
      "metadata": {
        "id": "4d7QGp3cBZG-"
      }
    },
    {
      "cell_type": "code",
      "source": [
        "import numpy as np\n",
        "from utils import *\n",
        "import random\n",
        "import pprint\n",
        "import copy"
      ],
      "metadata": {
        "id": "KNJjiL-nBa7C"
      },
      "execution_count": 2,
      "outputs": []
    },
    {
      "cell_type": "markdown",
      "source": [
        "# 1- Problem Statement\n",
        "\n",
        "## 1.1 - Dataset and Preprocessing"
      ],
      "metadata": {
        "id": "hyP-dtGeBh1Q"
      }
    },
    {
      "cell_type": "code",
      "source": [
        "data = open('dinos.txt', 'r').read()\n",
        "data = data.lower()\n",
        "chars = list(set(data))\n",
        "data_size, vocab_size = len(data), len(chars)\n",
        "print(f\"There are {data_size} total characters and {vocab_size} unique characters in our data \")"
      ],
      "metadata": {
        "colab": {
          "base_uri": "https://localhost:8080/"
        },
        "id": "BpF7lZ_-Bnah",
        "outputId": "84bd3f5a-4ff7-435f-c6f9-a85d031d27f4"
      },
      "execution_count": 9,
      "outputs": [
        {
          "output_type": "stream",
          "name": "stdout",
          "text": [
            "There are 19909 total characters and 27 unique characters in our data \n"
          ]
        }
      ]
    },
    {
      "cell_type": "markdown",
      "source": [
        "* The characters are a-z (26 characters) plus the \"\\n\" .\n",
        "* `char_to_ix`: In the cell, below we'll create a Python dictionary to map each character to an index from 0-26\n",
        "* `ix_to_char`: Then, we will create a second Python dictionary that maps each index back to the corresponding character.\n",
        "  * This will help us figure out which index corresponds to which character in the probability distribution output of the softmax layer."
      ],
      "metadata": {
        "id": "2xmAfoY3BsP_"
      }
    },
    {
      "cell_type": "code",
      "source": [
        "chars = sorted(chars)\n",
        "print(chars)"
      ],
      "metadata": {
        "colab": {
          "base_uri": "https://localhost:8080/"
        },
        "id": "uxJXWor_DR4a",
        "outputId": "5e93ea39-5d5f-4ad2-a245-97fc19f32ba9"
      },
      "execution_count": 10,
      "outputs": [
        {
          "output_type": "stream",
          "name": "stdout",
          "text": [
            "['\\n', 'a', 'b', 'c', 'd', 'e', 'f', 'g', 'h', 'i', 'j', 'k', 'l', 'm', 'n', 'o', 'p', 'q', 'r', 's', 't', 'u', 'v', 'w', 'x', 'y', 'z']\n"
          ]
        }
      ]
    },
    {
      "cell_type": "code",
      "source": [
        "char_to_ix = { ch:i for i,ch in enumerate(chars) }\n",
        "ix_to_char = { i:ch for i,ch in enumerate(chars) }\n",
        "pp = pprint.PrettyPrinter(indent=4)\n",
        "pp.pprint(ix_to_char)"
      ],
      "metadata": {
        "colab": {
          "base_uri": "https://localhost:8080/"
        },
        "id": "1CqG83glIL7v",
        "outputId": "2530328d-f729-415c-9047-89645b126330"
      },
      "execution_count": 15,
      "outputs": [
        {
          "output_type": "stream",
          "name": "stdout",
          "text": [
            "{   0: '\\n',\n",
            "    1: 'a',\n",
            "    2: 'b',\n",
            "    3: 'c',\n",
            "    4: 'd',\n",
            "    5: 'e',\n",
            "    6: 'f',\n",
            "    7: 'g',\n",
            "    8: 'h',\n",
            "    9: 'i',\n",
            "    10: 'j',\n",
            "    11: 'k',\n",
            "    12: 'l',\n",
            "    13: 'm',\n",
            "    14: 'n',\n",
            "    15: 'o',\n",
            "    16: 'p',\n",
            "    17: 'q',\n",
            "    18: 'r',\n",
            "    19: 's',\n",
            "    20: 't',\n",
            "    21: 'u',\n",
            "    22: 'v',\n",
            "    23: 'w',\n",
            "    24: 'x',\n",
            "    25: 'y',\n",
            "    26: 'z'}\n"
          ]
        }
      ]
    },
    {
      "cell_type": "markdown",
      "source": [
        "## 1.2 Overview of the model\n",
        "\n",
        "Our model will have the following structure:\n",
        "\n",
        "* Initialize the parameters\n",
        "* Run the optimization loop\n",
        "  * Forward propagation to compute the loss function\n",
        "  * Backward propagation to compute the gradients with respect to the loss function.\n",
        "  * Clip the gradients to avoid exploding gradients\n",
        "  * Using the gradients, update the parameters with the gradient descent update rule.\n",
        "* Return the learned parameters.\n",
        "\n",
        "# 2 - Building Blocks of the Model\n",
        "\n",
        "In this part, we will build two important blocks of the overall model:\n",
        "\n",
        "1. Gradient clipping: to avoid exploding gradients\n",
        "2. Sampling: a technique used to generate characters.\n",
        "\n",
        "## 2.1 - Clipping the Gradients in the Optimization Loop\n",
        "\n",
        "In this section we will implement the `clip` function that we will call inside of our optimization loop.\n",
        "\n",
        "### Exploding gradients\n",
        "* When gradients are very large, they're called \"exploding gradients.\"\n",
        "* Exploding gradients make the training process more difficult, because the updates may be so large that they \"overshoot\" the optimal values during back propagation.\n",
        "\n",
        "Before updating the parameters, we will perform gradient clipping to make sure that our gradients are not \"exploding\".\n",
        "\n",
        "### Gradient Clipping\n",
        "\n",
        "* There are different ways to clip gradients.\n",
        "* We will use a simple element-wise clipping procedure, in which every element of the gradient vector is clipped to fall between some range [-N,N].\n",
        "* For example , if the N = 10\n",
        "  * The range is [-10,10]\n",
        "  * If any component of the gradient vector is greater than 10, it is set to 10.\n",
        "  * If any component of the gradient vector is less than -10, it is set to -10.\n",
        "  * If any components are between -10 and 10, then keep their values. \n",
        "\n",
        "### Exercise 1- clip"
      ],
      "metadata": {
        "id": "rErnu9riDU5f"
      }
    },
    {
      "cell_type": "code",
      "source": [
        "def clip(gradients, maxValue):\n",
        "    '''\n",
        "    Clips the gradients' values between minimum and maximum.\n",
        "    \n",
        "    Arguments:\n",
        "    gradients -- a dictionary containing the gradients \"dWaa\", \"dWax\", \"dWya\", \"db\", \"dby\"\n",
        "    maxValue -- everything above this number is set to this number, and everything less than -maxValue is set to -maxValue\n",
        "    \n",
        "    Returns: \n",
        "    gradients -- a dictionary with the clipped gradients.\n",
        "    '''\n",
        "    gradients = copy.deepcopy(gradients)\n",
        "\n",
        "    dWaa, dWax, dWya, db, dby = gradients[\"dWaa\"], gradients[\"dWax\"], gradients[\"dWya\"], gradients[\"db\"], gradients[\"dby\"]\n",
        "\n",
        "    for gradient in gradients:\n",
        "      np.clip(gradients[gradient], -maxValue, maxValue, out = gradients[gradient])\n",
        "\n",
        "    gradients = {\"dWaa\":dWaa,\n",
        "                 \"dWax\":dWax,\n",
        "                 \"dWya\":dWya,\n",
        "                 \"db\":db,\n",
        "                 \"dby\":dby}\n",
        "    return gradients\n"
      ],
      "metadata": {
        "id": "ApZQ8G6bEArp"
      },
      "execution_count": 11,
      "outputs": []
    },
    {
      "cell_type": "code",
      "source": [
        "# Test with a max value of 10\n",
        "def clip_test(target, mValue):\n",
        "    print(f\"\\nGradients for mValue={mValue}\")\n",
        "    np.random.seed(3)\n",
        "    dWax = np.random.randn(5, 3) * 10\n",
        "    dWaa = np.random.randn(5, 5) * 10\n",
        "    dWya = np.random.randn(2, 5) * 10\n",
        "    db = np.random.randn(5, 1) * 10\n",
        "    dby = np.random.randn(2, 1) * 10\n",
        "    gradients = {\"dWax\": dWax, \"dWaa\": dWaa, \"dWya\": dWya, \"db\": db, \"dby\": dby}\n",
        "\n",
        "    gradients2 = target(gradients, mValue)\n",
        "    print(\"gradients[\\\"dWaa\\\"][1][2] =\", gradients2[\"dWaa\"][1][2])\n",
        "    print(\"gradients[\\\"dWax\\\"][3][1] =\", gradients2[\"dWax\"][3][1])\n",
        "    print(\"gradients[\\\"dWya\\\"][1][2] =\", gradients2[\"dWya\"][1][2])\n",
        "    print(\"gradients[\\\"db\\\"][4] =\", gradients2[\"db\"][4])\n",
        "    print(\"gradients[\\\"dby\\\"][1] =\", gradients2[\"dby\"][1])\n",
        "    \n",
        "    for grad in gradients2.keys():\n",
        "        valuei = gradients[grad]\n",
        "        valuef = gradients2[grad]\n",
        "        mink = np.min(valuef)\n",
        "        maxk = np.max(valuef)\n",
        "        assert mink >= -abs(mValue), f\"Problem with {grad}. Set a_min to -mValue in the np.clip call\"\n",
        "        assert maxk <= abs(mValue), f\"Problem with {grad}.Set a_max to mValue in the np.clip call\"\n",
        "        index_not_clipped = np.logical_and(valuei <= mValue, valuei >= -mValue)\n",
        "        assert np.all(valuei[index_not_clipped] == valuef[index_not_clipped]), f\" Problem with {grad}. Some values that should not have changed, changed during the clipping process.\"\n",
        "    \n",
        "    print(\"\\033[92mAll tests passed!\\x1b[0m\")\n",
        "    \n",
        "clip_test(clip, 10)\n",
        "clip_test(clip, 5)"
      ],
      "metadata": {
        "colab": {
          "base_uri": "https://localhost:8080/"
        },
        "id": "dti76blNHKHi",
        "outputId": "eeb4e76b-6644-40ea-83a7-a4b05da36e21"
      },
      "execution_count": 12,
      "outputs": [
        {
          "output_type": "stream",
          "name": "stdout",
          "text": [
            "\n",
            "Gradients for mValue=10\n",
            "gradients[\"dWaa\"][1][2] = 10.0\n",
            "gradients[\"dWax\"][3][1] = -10.0\n",
            "gradients[\"dWya\"][1][2] = 0.2971381536101662\n",
            "gradients[\"db\"][4] = [10.]\n",
            "gradients[\"dby\"][1] = [8.45833407]\n",
            "\u001b[92mAll tests passed!\u001b[0m\n",
            "\n",
            "Gradients for mValue=5\n",
            "gradients[\"dWaa\"][1][2] = 5.0\n",
            "gradients[\"dWax\"][3][1] = -5.0\n",
            "gradients[\"dWya\"][1][2] = 0.2971381536101662\n",
            "gradients[\"db\"][4] = [5.]\n",
            "gradients[\"dby\"][1] = [5.]\n",
            "\u001b[92mAll tests passed!\u001b[0m\n"
          ]
        }
      ]
    },
    {
      "cell_type": "markdown",
      "source": [
        "## 2.2 - Sampling\n",
        "\n",
        "Now assume that our model is trained, and we would like to generate new text (characters)."
      ],
      "metadata": {
        "id": "333aiEnGHM-r"
      }
    },
    {
      "cell_type": "code",
      "source": [
        "def sample(parameters, char_to_ix, seed):\n",
        "    \"\"\"\n",
        "    Sample a sequence of characters according to a sequence of probability distributions output of the RNN\n",
        "\n",
        "    Arguments:\n",
        "    parameters -- Python dictionary containing the parameters Waa, Wax, Wya, by, and b. \n",
        "    char_to_ix -- Python dictionary mapping each character to an index.\n",
        "    seed -- Used for grading purposes. Do not worry about it.\n",
        "\n",
        "    Returns:\n",
        "    indices -- A list of length n containing the indices of the sampled characters.\n",
        "    \"\"\"\n",
        "\n",
        "    # Retrieve parameters and relevant shapes from \"parameters\" dictionary\n",
        "    Waa, Wax, Wya, by, b = parameters['Waa'], parameters['Wax'], parameters['Wya'], parameters['by'], parameters['b']\n",
        "    vocab_size = by.shape[0]\n",
        "    n_a = Waa.shape[1]\n",
        "\n",
        "    ### START CODE HERE ###\n",
        "    # Step 1: Create the a zero vector x that can be used as the one-hot vector \n",
        "    # Representing the first character (initializing the sequence generation). (≈1 line)\n",
        "    x = np.zeros((vocab_size,1))\n",
        "    # Step 1': Initialize a_prev as zeros (≈1 line)\n",
        "    a_prev = np.zeros((n_a ,1))\n",
        "\n",
        "    # Create an empty list of indices. This is the list which will contain the list of indices of the characters to generate (≈1 line)\n",
        "    indices = []\n",
        "\n",
        "    # idx is the index of the one-hot vector x that is set to 1\n",
        "    # All other positions in x are zero.\n",
        "    # Initialize idx to -1\n",
        "    idx = -1\n",
        "\n",
        "    # Loop over time-steps t. At each time-step:\n",
        "    # Sample a character from a probability distribution \n",
        "    # And append its index (`idx`) to the list \"indices\". \n",
        "    # You'll stop if you reach 50 characters \n",
        "    # (which should be very unlikely with a well-trained model).\n",
        "    # Setting the maximum number of characters helps with debugging and prevents infinite loops. \n",
        "    counter = 0\n",
        "    newline_character = char_to_ix['\\n']\n",
        "    \n",
        "    while (idx != newline_character and counter != 50):\n",
        "\n",
        "        # Step 2: Forward propagate x using the equations (1), (2) and (3)\n",
        "        a = np.tanh(np.dot(Wax,x) + np.dot(Waa,a_prev) + b)\n",
        "        z = np.dot(Wya,a) + by\n",
        "        y = softmax(z)\n",
        "\n",
        "        # For grading purposes\n",
        "        np.random.seed(counter + seed) \n",
        "\n",
        "        # Step 3: Sample the index of a character within the vocabulary from the probability distribution y\n",
        "        # (see additional hints above)\n",
        "        idx = np.random.choice(range(len(y)), p = np.squeeze(y) )\n",
        "\n",
        "        # Append the index to \"indices\"\n",
        "        indices.append(idx)\n",
        "\n",
        "        # Step 4: Overwrite the input x with one that corresponds to the sampled index `idx`.\n",
        "        # (see additional hints above)\n",
        "        x = np.zeros((vocab_size,1))\n",
        "        x[idx] = 1\n",
        "\n",
        "        # Update \"a_prev\" to be \"a\"\n",
        "        a_prev = a\n",
        "\n",
        "        # for grading purposes\n",
        "        seed += 1\n",
        "\n",
        "        counter +=1\n",
        "\n",
        "    ### END CODE HERE ###\n",
        "\n",
        "    if (counter == 50):\n",
        "        indices.append(char_to_ix['\\n'])\n",
        "    \n",
        "    return indices"
      ],
      "metadata": {
        "id": "NThZr_70H1XF"
      },
      "execution_count": 13,
      "outputs": []
    },
    {
      "cell_type": "code",
      "source": [
        "def sample_test(target):\n",
        "    np.random.seed(24)\n",
        "    _, n_a = 20, 100\n",
        "    Wax, Waa, Wya = np.random.randn(n_a, vocab_size), np.random.randn(n_a, n_a), np.random.randn(vocab_size, n_a)\n",
        "    b, by = np.random.randn(n_a, 1), np.random.randn(vocab_size, 1)\n",
        "    parameters = {\"Wax\": Wax, \"Waa\": Waa, \"Wya\": Wya, \"b\": b, \"by\": by}\n",
        "\n",
        "\n",
        "    indices = target(parameters, char_to_ix, 0)\n",
        "    print(\"Sampling:\")\n",
        "    print(\"list of sampled indices:\\n\", indices)\n",
        "    print(\"list of sampled characters:\\n\", [ix_to_char[i] for i in indices])\n",
        "    \n",
        "    assert len(indices) < 52, \"Indices lenght must be smaller than 52\"\n",
        "    assert indices[-1] == char_to_ix['\\n'], \"All samples must end with \\\\n\"\n",
        "    assert min(indices) >= 0 and max(indices) < len(char_to_ix), f\"Sampled indexes must be between 0 and len(char_to_ix)={len(char_to_ix)}\"\n",
        "    assert np.allclose(indices[0:6], [23, 16, 26, 26, 24, 3]), \"Wrong values\"\n",
        "    \n",
        "    print(\"\\033[92mAll tests passed!\")\n",
        "\n",
        "sample_test(sample)"
      ],
      "metadata": {
        "colab": {
          "base_uri": "https://localhost:8080/"
        },
        "id": "suHItbJUICBD",
        "outputId": "d23e3139-770b-46ac-c43b-84837c009689"
      },
      "execution_count": 16,
      "outputs": [
        {
          "output_type": "stream",
          "name": "stdout",
          "text": [
            "Sampling:\n",
            "list of sampled indices:\n",
            " [23, 16, 26, 26, 24, 3, 21, 1, 7, 24, 15, 3, 25, 20, 6, 13, 10, 8, 20, 12, 2, 0]\n",
            "list of sampled characters:\n",
            " ['w', 'p', 'z', 'z', 'x', 'c', 'u', 'a', 'g', 'x', 'o', 'c', 'y', 't', 'f', 'm', 'j', 'h', 't', 'l', 'b', '\\n']\n",
            "\u001b[92mAll tests passed!\n"
          ]
        }
      ]
    },
    {
      "cell_type": "markdown",
      "source": [
        "<font color = \"blue\">**Points to remember:**</font>\n",
        "\n",
        "* Very large , or \"exploding\" gradients updates can be so large that they \"overshoot\" the optimal values during back prop -- making training difficult\n",
        "  * Clip gradients before updating the parameters to avoid exploding gradients\n",
        "\n",
        "* Sampling is a technique we can use to pick the index of the next character according to the probability distribution.\n",
        "  * To begin character-level sampling:\n",
        "    * Input a \"dummy\" vector of zeros as a default input.\n",
        "    * Run one step of forward propagation to get a(1) (first character) and y<sup>^</sup> (probability distribution for the following character).\n",
        "    * When sampling, avoid generating the same result each time given the starting letter by using `np.random.choice`"
      ],
      "metadata": {
        "id": "FO5PCSJYIE4J"
      }
    },
    {
      "cell_type": "markdown",
      "source": [
        "# 3- Building the Language Model\n",
        "\n",
        "It's time to build the character-level language model for the text generation!\n",
        "\n",
        "## 3.1 - Gradient Descent\n",
        "\n",
        "In this section we will implement a function performing one step of stochastic gradient descent (with clipped gradients). We'll go through the training examples one at a time, so the optimizatoin will be stochastic gradient descent.\n",
        "\n",
        "\n",
        "### Exercise 3 - optimizer"
      ],
      "metadata": {
        "id": "iCQRJmxWJXWo"
      }
    },
    {
      "cell_type": "code",
      "source": [
        "def optimize(X, Y, a_prev, parameters, learning_rate = 0.01):\n",
        "    \"\"\"\n",
        "    Execute one step of the optimization to train the model.\n",
        "    \n",
        "    Arguments:\n",
        "    X -- list of integers, where each integer is a number that maps to a character in the vocabulary.\n",
        "    Y -- list of integers, exactly the same as X but shifted one index to the left.\n",
        "    a_prev -- previous hidden state.\n",
        "    parameters -- python dictionary containing:\n",
        "                        Wax -- Weight matrix multiplying the input, numpy array of shape (n_a, n_x)\n",
        "                        Waa -- Weight matrix multiplying the hidden state, numpy array of shape (n_a, n_a)\n",
        "                        Wya -- Weight matrix relating the hidden-state to the output, numpy array of shape (n_y, n_a)\n",
        "                        b --  Bias, numpy array of shape (n_a, 1)\n",
        "                        by -- Bias relating the hidden-state to the output, numpy array of shape (n_y, 1)\n",
        "    learning_rate -- learning rate for the model.\n",
        "    \n",
        "    Returns:\n",
        "    loss -- value of the loss function (cross-entropy)\n",
        "    gradients -- python dictionary containing:\n",
        "                        dWax -- Gradients of input-to-hidden weights, of shape (n_a, n_x)\n",
        "                        dWaa -- Gradients of hidden-to-hidden weights, of shape (n_a, n_a)\n",
        "                        dWya -- Gradients of hidden-to-output weights, of shape (n_y, n_a)\n",
        "                        db -- Gradients of bias vector, of shape (n_a, 1)\n",
        "                        dby -- Gradients of output bias vector, of shape (n_y, 1)\n",
        "    a[len(X)-1] -- the last hidden state, of shape (n_a, 1)\n",
        "    \"\"\"\n",
        "    \n",
        "    ### START CODE HERE ###\n",
        "    \n",
        "    # Forward propagate through time (≈1 line)\n",
        "    loss, cache = rnn_forward(X, Y, a_prev, parameters)\n",
        "    \n",
        "    # Backpropagate through time (≈1 line)\n",
        "    gradients, a = rnn_backward(X, Y, parameters, cache)\n",
        "    \n",
        "    # Clip your gradients between -5 (min) and 5 (max) (≈1 line)\n",
        "    gradients = clip(gradients, 5)\n",
        "    \n",
        "    # Update parameters (≈1 line)\n",
        "    parameters = update_parameters(parameters, gradients, learning_rate)\n",
        "    \n",
        "    ### END CODE HERE ###\n",
        "    \n",
        "    return loss, gradients, a[len(X)-1]"
      ],
      "metadata": {
        "id": "dEriRQX7KApS"
      },
      "execution_count": 17,
      "outputs": []
    },
    {
      "cell_type": "code",
      "source": [
        "def optimize_test(target):\n",
        "    np.random.seed(1)\n",
        "    vocab_size, n_a = 27, 100\n",
        "    a_prev = np.random.randn(n_a, 1)\n",
        "    Wax, Waa, Wya = np.random.randn(n_a, vocab_size), np.random.randn(n_a, n_a), np.random.randn(vocab_size, n_a)\n",
        "    b, by = np.random.randn(n_a, 1), np.random.randn(vocab_size, 1)\n",
        "    parameters = {\"Wax\": Wax, \"Waa\": Waa, \"Wya\": Wya, \"b\": b, \"by\": by}\n",
        "    X = [12, 3, 5, 11, 22, 3]\n",
        "    Y = [4, 14, 11, 22, 25, 26]\n",
        "    old_parameters = copy.deepcopy(parameters)\n",
        "    loss, gradients, a_last = target(X, Y, a_prev, parameters, learning_rate = 0.01)\n",
        "    print(\"Loss =\", loss)\n",
        "    print(\"gradients[\\\"dWaa\\\"][1][2] =\", gradients[\"dWaa\"][1][2])\n",
        "    print(\"np.argmax(gradients[\\\"dWax\\\"]) =\", np.argmax(gradients[\"dWax\"]))\n",
        "    print(\"gradients[\\\"dWya\\\"][1][2] =\", gradients[\"dWya\"][1][2])\n",
        "    print(\"gradients[\\\"db\\\"][4] =\", gradients[\"db\"][4])\n",
        "    print(\"gradients[\\\"dby\\\"][1] =\", gradients[\"dby\"][1])\n",
        "    print(\"a_last[4] =\", a_last[4])\n",
        "    \n",
        "    assert np.isclose(loss, 126.5039757), \"Problems with the call of the rnn_forward function\"\n",
        "    for grad in gradients.values():\n",
        "        assert np.min(grad) >= -5, \"Problems in the clip function call\"\n",
        "        assert np.max(grad) <= 5, \"Problems in the clip function call\"\n",
        "    assert np.allclose(gradients['dWaa'][1, 2], 0.1947093), \"Unexpected gradients. Check the rnn_backward call\"\n",
        "    assert np.allclose(gradients['dWya'][1, 2], -0.007773876), \"Unexpected gradients. Check the rnn_backward call\"\n",
        "    assert not np.allclose(parameters['Wya'], old_parameters['Wya']), \"parameters were not updated\"\n",
        "    \n",
        "    print(\"\\033[92mAll tests passed!\")\n",
        "\n",
        "optimize_test(optimize)"
      ],
      "metadata": {
        "colab": {
          "base_uri": "https://localhost:8080/"
        },
        "id": "us2AQQ2eKLHo",
        "outputId": "08967ce5-ba16-4c6a-e92c-3a4c73e967fe"
      },
      "execution_count": 18,
      "outputs": [
        {
          "output_type": "stream",
          "name": "stdout",
          "text": [
            "Loss = 126.50397572165369\n",
            "gradients[\"dWaa\"][1][2] = 0.19470931534720928\n",
            "np.argmax(gradients[\"dWax\"]) = 93\n",
            "gradients[\"dWya\"][1][2] = -0.007773876032003706\n",
            "gradients[\"db\"][4] = [-0.06809825]\n",
            "gradients[\"dby\"][1] = [0.01538192]\n",
            "a_last[4] = [-1.]\n",
            "\u001b[92mAll tests passed!\n"
          ]
        }
      ]
    },
    {
      "cell_type": "markdown",
      "source": [
        "### 3.2 - Training the Model\n",
        "\n",
        "* Given the dataset of dinosaur names, we'll use each line of the dataset (name) as one training example.\n",
        "* Every 2000 steps of stochastic gradient descent,we will sample several randomly chosen names to see how the algorithm is doing. "
      ],
      "metadata": {
        "id": "AUJGsN-2KNlT"
      }
    },
    {
      "cell_type": "code",
      "source": [],
      "metadata": {
        "id": "VdPgJ6UUKpiM"
      },
      "execution_count": null,
      "outputs": []
    }
  ]
}