{
  "nbformat": 4,
  "nbformat_minor": 0,
  "metadata": {
    "colab": {
      "provenance": [],
      "collapsed_sections": [],
      "authorship_tag": "ABX9TyN/C/fnDOR+yxTIc/6yGHsX",
      "include_colab_link": true
    },
    "kernelspec": {
      "name": "python3",
      "display_name": "Python 3"
    },
    "language_info": {
      "name": "python"
    }
  },
  "cells": [
    {
      "cell_type": "markdown",
      "metadata": {
        "id": "view-in-github",
        "colab_type": "text"
      },
      "source": [
        "<a href=\"https://colab.research.google.com/github/Bhandari007/sequence_model_course/blob/main/Recurrent_Neural_Network_Step_by_Step.ipynb\" target=\"_parent\"><img src=\"https://colab.research.google.com/assets/colab-badge.svg\" alt=\"Open In Colab\"/></a>"
      ]
    },
    {
      "cell_type": "code",
      "source": [
        "!wget https://raw.githubusercontent.com/abdur75648/Deep-Learning-Specialization-Coursera/main/Sequence%20Models/week1/w1a1/public_tests.py\n",
        "!wget https://raw.githubusercontent.com/abdur75648/Deep-Learning-Specialization-Coursera/main/Sequence%20Models/week1/w1a1/generateTestCases.py\n",
        "!wget https://raw.githubusercontent.com/abdur75648/Deep-Learning-Specialization-Coursera/main/Sequence%20Models/week1/w1a1/rnn_utils.py\n",
        "!wget https://raw.githubusercontent.com/abdur75648/Deep-Learning-Specialization-Coursera/main/Sequence%20Models/week1/w1a1/test_utils.py\n",
        "!wget https://raw.githubusercontent.com/abdur75648/Deep-Learning-Specialization-Coursera/main/Sequence%20Models/week1/w1a1/utils.py"
      ],
      "metadata": {
        "colab": {
          "base_uri": "https://localhost:8080/"
        },
        "id": "qkb2diwjWSWA",
        "outputId": "f49625dd-2f4a-44df-c533-12c75519d17f"
      },
      "execution_count": 4,
      "outputs": [
        {
          "output_type": "stream",
          "name": "stdout",
          "text": [
            "--2022-10-17 14:31:46--  https://raw.githubusercontent.com/abdur75648/Deep-Learning-Specialization-Coursera/main/Sequence%20Models/week1/w1a1/public_tests.py\n",
            "Resolving raw.githubusercontent.com (raw.githubusercontent.com)... 185.199.108.133, 185.199.109.133, 185.199.110.133, ...\n",
            "Connecting to raw.githubusercontent.com (raw.githubusercontent.com)|185.199.108.133|:443... connected.\n",
            "HTTP request sent, awaiting response... 200 OK\n",
            "Length: 8150 (8.0K) [text/plain]\n",
            "Saving to: ‘public_tests.py’\n",
            "\n",
            "\rpublic_tests.py       0%[                    ]       0  --.-KB/s               \rpublic_tests.py     100%[===================>]   7.96K  --.-KB/s    in 0s      \n",
            "\n",
            "2022-10-17 14:31:46 (111 MB/s) - ‘public_tests.py’ saved [8150/8150]\n",
            "\n",
            "--2022-10-17 14:31:46--  https://raw.githubusercontent.com/abdur75648/Deep-Learning-Specialization-Coursera/main/Sequence%20Models/week1/w1a1/generateTestCases.py\n",
            "Resolving raw.githubusercontent.com (raw.githubusercontent.com)... 185.199.108.133, 185.199.111.133, 185.199.110.133, ...\n",
            "Connecting to raw.githubusercontent.com (raw.githubusercontent.com)|185.199.108.133|:443... connected.\n",
            "HTTP request sent, awaiting response... 200 OK\n",
            "Length: 3384 (3.3K) [text/plain]\n",
            "Saving to: ‘generateTestCases.py’\n",
            "\n",
            "generateTestCases.p 100%[===================>]   3.30K  --.-KB/s    in 0s      \n",
            "\n",
            "2022-10-17 14:31:46 (60.6 MB/s) - ‘generateTestCases.py’ saved [3384/3384]\n",
            "\n",
            "--2022-10-17 14:31:46--  https://raw.githubusercontent.com/abdur75648/Deep-Learning-Specialization-Coursera/main/Sequence%20Models/week1/w1a1/rnn_utils.py\n",
            "Resolving raw.githubusercontent.com (raw.githubusercontent.com)... 185.199.108.133, 185.199.111.133, 185.199.110.133, ...\n",
            "Connecting to raw.githubusercontent.com (raw.githubusercontent.com)|185.199.108.133|:443... connected.\n",
            "HTTP request sent, awaiting response... 200 OK\n",
            "Length: 5155 (5.0K) [text/plain]\n",
            "Saving to: ‘rnn_utils.py’\n",
            "\n",
            "rnn_utils.py        100%[===================>]   5.03K  --.-KB/s    in 0s      \n",
            "\n",
            "2022-10-17 14:31:46 (61.0 MB/s) - ‘rnn_utils.py’ saved [5155/5155]\n",
            "\n",
            "--2022-10-17 14:31:46--  https://raw.githubusercontent.com/abdur75648/Deep-Learning-Specialization-Coursera/main/Sequence%20Models/week1/w1a1/test_utils.py\n",
            "Resolving raw.githubusercontent.com (raw.githubusercontent.com)... 185.199.108.133, 185.199.109.133, 185.199.110.133, ...\n",
            "Connecting to raw.githubusercontent.com (raw.githubusercontent.com)|185.199.108.133|:443... connected.\n",
            "HTTP request sent, awaiting response... 200 OK\n",
            "Length: 590 [text/plain]\n",
            "Saving to: ‘test_utils.py’\n",
            "\n",
            "test_utils.py       100%[===================>]     590  --.-KB/s    in 0s      \n",
            "\n",
            "2022-10-17 14:31:46 (35.8 MB/s) - ‘test_utils.py’ saved [590/590]\n",
            "\n"
          ]
        }
      ]
    },
    {
      "cell_type": "code",
      "source": [],
      "metadata": {
        "id": "K3CQUZFUWfOX"
      },
      "execution_count": null,
      "outputs": []
    }
  ]
}