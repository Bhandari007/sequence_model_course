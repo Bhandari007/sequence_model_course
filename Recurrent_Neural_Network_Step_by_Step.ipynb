{
  "nbformat": 4,
  "nbformat_minor": 0,
  "metadata": {
    "colab": {
      "provenance": [],
      "collapsed_sections": [],
      "authorship_tag": "ABX9TyPmqzEqxvKUuBvi9MnldL74",
      "include_colab_link": true
    },
    "kernelspec": {
      "name": "python3",
      "display_name": "Python 3"
    },
    "language_info": {
      "name": "python"
    }
  },
  "cells": [
    {
      "cell_type": "markdown",
      "metadata": {
        "id": "view-in-github",
        "colab_type": "text"
      },
      "source": [
        "<a href=\"https://colab.research.google.com/github/Bhandari007/sequence_model_course/blob/main/Recurrent_Neural_Network_Step_by_Step.ipynb\" target=\"_parent\"><img src=\"https://colab.research.google.com/assets/colab-badge.svg\" alt=\"Open In Colab\"/></a>"
      ]
    },
    {
      "cell_type": "code",
      "source": [
        "!wget https://raw.githubusercontent.com/abdur75648/Deep-Learning-Specialization-Coursera/main/Sequence%20Models/week1/w1a1/public_tests.py\n",
        "!wget https://raw.githubusercontent.com/abdur75648/Deep-Learning-Specialization-Coursera/main/Sequence%20Models/week1/w1a1/generateTestCases.py\n",
        "!wget https://raw.githubusercontent.com/abdur75648/Deep-Learning-Specialization-Coursera/main/Sequence%20Models/week1/w1a1/rnn_utils.py\n",
        "!wget https://raw.githubusercontent.com/abdur75648/Deep-Learning-Specialization-Coursera/main/Sequence%20Models/week1/w1a1/test_utils.py\n",
        "!wget https://raw.githubusercontent.com/abdur75648/Deep-Learning-Specialization-Coursera/main/Sequence%20Models/week1/w1a1/utils.py"
      ],
      "metadata": {
        "colab": {
          "base_uri": "https://localhost:8080/"
        },
        "id": "qkb2diwjWSWA",
        "outputId": "5a9b3a2f-3e6a-4d04-c05f-a2a5f217fc53"
      },
      "execution_count": 1,
      "outputs": [
        {
          "output_type": "stream",
          "name": "stdout",
          "text": [
            "--2022-10-18 09:56:23--  https://raw.githubusercontent.com/abdur75648/Deep-Learning-Specialization-Coursera/main/Sequence%20Models/week1/w1a1/public_tests.py\n",
            "Resolving raw.githubusercontent.com (raw.githubusercontent.com)... 185.199.108.133, 185.199.109.133, 185.199.110.133, ...\n",
            "Connecting to raw.githubusercontent.com (raw.githubusercontent.com)|185.199.108.133|:443... connected.\n",
            "HTTP request sent, awaiting response... 200 OK\n",
            "Length: 8150 (8.0K) [text/plain]\n",
            "Saving to: ‘public_tests.py’\n",
            "\n",
            "\rpublic_tests.py       0%[                    ]       0  --.-KB/s               \rpublic_tests.py     100%[===================>]   7.96K  --.-KB/s    in 0s      \n",
            "\n",
            "2022-10-18 09:56:23 (84.3 MB/s) - ‘public_tests.py’ saved [8150/8150]\n",
            "\n",
            "--2022-10-18 09:56:23--  https://raw.githubusercontent.com/abdur75648/Deep-Learning-Specialization-Coursera/main/Sequence%20Models/week1/w1a1/generateTestCases.py\n",
            "Resolving raw.githubusercontent.com (raw.githubusercontent.com)... 185.199.108.133, 185.199.109.133, 185.199.110.133, ...\n",
            "Connecting to raw.githubusercontent.com (raw.githubusercontent.com)|185.199.108.133|:443... connected.\n",
            "HTTP request sent, awaiting response... 200 OK\n",
            "Length: 3384 (3.3K) [text/plain]\n",
            "Saving to: ‘generateTestCases.py’\n",
            "\n",
            "generateTestCases.p 100%[===================>]   3.30K  --.-KB/s    in 0s      \n",
            "\n",
            "2022-10-18 09:56:23 (43.8 MB/s) - ‘generateTestCases.py’ saved [3384/3384]\n",
            "\n",
            "--2022-10-18 09:56:23--  https://raw.githubusercontent.com/abdur75648/Deep-Learning-Specialization-Coursera/main/Sequence%20Models/week1/w1a1/rnn_utils.py\n",
            "Resolving raw.githubusercontent.com (raw.githubusercontent.com)... 185.199.108.133, 185.199.109.133, 185.199.110.133, ...\n",
            "Connecting to raw.githubusercontent.com (raw.githubusercontent.com)|185.199.108.133|:443... connected.\n",
            "HTTP request sent, awaiting response... 200 OK\n",
            "Length: 5155 (5.0K) [text/plain]\n",
            "Saving to: ‘rnn_utils.py’\n",
            "\n",
            "rnn_utils.py        100%[===================>]   5.03K  --.-KB/s    in 0s      \n",
            "\n",
            "2022-10-18 09:56:23 (67.7 MB/s) - ‘rnn_utils.py’ saved [5155/5155]\n",
            "\n",
            "--2022-10-18 09:56:23--  https://raw.githubusercontent.com/abdur75648/Deep-Learning-Specialization-Coursera/main/Sequence%20Models/week1/w1a1/test_utils.py\n",
            "Resolving raw.githubusercontent.com (raw.githubusercontent.com)... 185.199.108.133, 185.199.109.133, 185.199.110.133, ...\n",
            "Connecting to raw.githubusercontent.com (raw.githubusercontent.com)|185.199.108.133|:443... connected.\n",
            "HTTP request sent, awaiting response... 200 OK\n",
            "Length: 590 [text/plain]\n",
            "Saving to: ‘test_utils.py’\n",
            "\n",
            "test_utils.py       100%[===================>]     590  --.-KB/s    in 0s      \n",
            "\n",
            "2022-10-18 09:56:24 (38.7 MB/s) - ‘test_utils.py’ saved [590/590]\n",
            "\n",
            "--2022-10-18 09:56:24--  https://raw.githubusercontent.com/abdur75648/Deep-Learning-Specialization-Coursera/main/Sequence%20Models/week1/w1a1/utils.py\n",
            "Resolving raw.githubusercontent.com (raw.githubusercontent.com)... 185.199.108.133, 185.199.109.133, 185.199.110.133, ...\n",
            "Connecting to raw.githubusercontent.com (raw.githubusercontent.com)|185.199.108.133|:443... connected.\n",
            "HTTP request sent, awaiting response... 200 OK\n",
            "Length: 4446 (4.3K) [text/plain]\n",
            "Saving to: ‘utils.py’\n",
            "\n",
            "utils.py            100%[===================>]   4.34K  --.-KB/s    in 0s      \n",
            "\n",
            "2022-10-18 09:56:24 (42.0 MB/s) - ‘utils.py’ saved [4446/4446]\n",
            "\n"
          ]
        }
      ]
    },
    {
      "cell_type": "markdown",
      "source": [
        "# Building Recurrent Neural Network - Step by Step\n",
        "\n",
        "**Objectives:**\n",
        "\n",
        "* Define notation for building sequence models\n",
        "* Describe the architecture of a basic RNN\n",
        "* Identify main components of an LSTM\n",
        "* Implement backpropagation through time for a basic RNN and an LSTM\n",
        "* Give examples of several types of RNN\n",
        "\n",
        "RNN are very effective for Natural Language Processing and other sequence tasks because they have \"memory\". They can read inputs *x<sup>(t)* (such as words) one at a time, and remeber some contextual information through the hidden layer activatoins that get passed from one time step to the next. This allows a unidirectional (one-way) RNN to take information from the past to process later inputs. A bidirectional (two-way) RNN can take context from both the past and the future."
      ],
      "metadata": {
        "id": "K3CQUZFUWfOX"
      }
    },
    {
      "cell_type": "markdown",
      "source": [
        "# Packages"
      ],
      "metadata": {
        "id": "HEg7Xf_Cif7p"
      }
    },
    {
      "cell_type": "code",
      "source": [
        "import numpy as np\n",
        "from rnn_utils import *\n",
        "from public_tests import *"
      ],
      "metadata": {
        "id": "b0w1FUcPiifN"
      },
      "execution_count": 2,
      "outputs": []
    },
    {
      "cell_type": "markdown",
      "source": [
        "## Exercise 1 - rnn_cell_forward\n",
        "Implement the RNN cell"
      ],
      "metadata": {
        "id": "i4tEiIfrioJ3"
      }
    },
    {
      "cell_type": "code",
      "source": [
        "def rnn_cell_forward(xt, a_prev, parameters):\n",
        "  \"\"\"\n",
        "  Implements a single forward step of the RNN-cell\n",
        "\n",
        "  Arguments:\n",
        "  xt -- input data at timestep \"t\", numpy array of shape (n_x,m).\n",
        "  a_prev -- Hidden state at timestep \"t-1\", numpy array of shape (n_a, m)\n",
        "  parameters -- python dictionary containing:\n",
        "                        Wax -- Weight matrix multiplying the input, numpy array of shape (n_a, n_x)\n",
        "                        Waa -- Weight matrix multiplying the hidden state, numpy array of shape (n_a, n_a)\n",
        "                        Wya -- Weight matrix relating the hidden-state to the output, numpy array of shape (n_y, n_a)\n",
        "                        ba --  Bias, numpy array of shape (n_a, 1)\n",
        "                        by -- Bias relating the hidden-state to the output, numpy array of shape (n_y, 1)\n",
        "    Returns:\n",
        "      a_next -- next hidden state, of shape (n_a, m)\n",
        "      yt_pred -- prediction at timestep \"t\", numpy array of shape (n_y, m)\n",
        "      cache -- tuple of values needed for the backward pass, contains (a_next, a_prev, xt, parameters)\n",
        "  \"\"\"\n",
        "  Wax = parameters[\"Wax\"]\n",
        "  Waa = parameters[\"Waa\"]\n",
        "  Wya = parameters[\"Wya\"]\n",
        "  ba = parameters[\"ba\"]\n",
        "  by = parameters[\"by\"]\n",
        "\n",
        "  \n",
        "  a_next = np.tanh(np.dot(Waa, a_prev) + np.dot(Wax, xt)+ba)\n",
        "  yt_pred = softmax(np.dot(Wya,a_next) + by)\n",
        "  cache = (a_next, a_prev, xt, parameters)\n",
        "  return a_next, yt_pred, cache\n",
        "  \n"
      ],
      "metadata": {
        "id": "jzhOzrEji7Yy"
      },
      "execution_count": 5,
      "outputs": []
    },
    {
      "cell_type": "code",
      "source": [
        "np.random.seed(1)\n",
        "xt_tmp = np.random.randn(3, 10)\n",
        "a_prev_tmp = np.random.randn(5, 10)\n",
        "parameters_tmp = {}\n",
        "parameters_tmp['Waa'] = np.random.randn(5, 5)\n",
        "parameters_tmp['Wax'] = np.random.randn(5, 3)\n",
        "parameters_tmp['Wya'] = np.random.randn(2, 5)\n",
        "parameters_tmp['ba'] = np.random.randn(5, 1)\n",
        "parameters_tmp['by'] = np.random.randn(2, 1)\n",
        "\n",
        "a_next_tmp, yt_pred_tmp, cache_tmp = rnn_cell_forward(xt_tmp, a_prev_tmp, parameters_tmp)\n",
        "print(\"a_next[4] = \\n\", a_next_tmp[4])\n",
        "print(\"a_next.shape = \\n\", a_next_tmp.shape)\n",
        "print(\"yt_pred[1] =\\n\", yt_pred_tmp[1])\n",
        "print(\"yt_pred.shape = \\n\", yt_pred_tmp.shape)\n",
        "\n",
        "# UNIT TESTS\n",
        "rnn_cell_forward_tests(rnn_cell_forward)"
      ],
      "metadata": {
        "colab": {
          "base_uri": "https://localhost:8080/"
        },
        "id": "iIKZMf03lT2X",
        "outputId": "02205c7d-0bdc-4ad2-b21e-50344d136dc1"
      },
      "execution_count": 6,
      "outputs": [
        {
          "output_type": "stream",
          "name": "stdout",
          "text": [
            "a_next[4] = \n",
            " [ 0.59584544  0.18141802  0.61311866  0.99808218  0.85016201  0.99980978\n",
            " -0.18887155  0.99815551  0.6531151   0.82872037]\n",
            "a_next.shape = \n",
            " (5, 10)\n",
            "yt_pred[1] =\n",
            " [0.9888161  0.01682021 0.21140899 0.36817467 0.98988387 0.88945212\n",
            " 0.36920224 0.9966312  0.9982559  0.17746526]\n",
            "yt_pred.shape = \n",
            " (2, 10)\n",
            "\u001b[92mAll tests passed\n"
          ]
        }
      ]
    },
    {
      "cell_type": "markdown",
      "source": [
        "# 1.2 - RNN Forward Pass\n",
        "\n",
        "## Exercise 2 - rnn_forward\n",
        "Implement the forward propagation of the RNN."
      ],
      "metadata": {
        "id": "Br95m-PylV5W"
      }
    },
    {
      "cell_type": "code",
      "source": [
        "def rnn_forward(x, a0, parameters):\n",
        "  \"\"\"\n",
        "    Implement the forward propagation of the recurrent neural network described in Figure (3).\n",
        "\n",
        "    Arguments:\n",
        "    x -- Input data for every time-step, of shape (n_x, m, T_x).\n",
        "    a0 -- Initial hidden state, of shape (n_a, m)\n",
        "    parameters -- python dictionary containing:\n",
        "                        Waa -- Weight matrix multiplying the hidden state, numpy array of shape (n_a, n_a)\n",
        "                        Wax -- Weight matrix multiplying the input, numpy array of shape (n_a, n_x)\n",
        "                        Wya -- Weight matrix relating the hidden-state to the output, numpy array of shape (n_y, n_a)\n",
        "                        ba --  Bias numpy array of shape (n_a, 1)\n",
        "                        by -- Bias relating the hidden-state to the output, numpy array of shape (n_y, 1)\n",
        "\n",
        "    Returns:\n",
        "    a -- Hidden states for every time-step, numpy array of shape (n_a, m, T_x)\n",
        "    y_pred -- Predictions for every time-step, numpy array of shape (n_y, m, T_x)\n",
        "    caches -- tuple of values needed for the backward pass, contains (list of caches, x)\n",
        "  \"\"\"\n",
        "  caches = []\n",
        "  n_x, m, T_x = x.shape\n",
        "  n_y, n_a = parameters[\"Wya\"].shape\n",
        "  a = np.zeros((n_a, m, T_x))\n",
        "  y_pred = np.zeros((n_y, m, T_x))\n",
        "\n",
        "  a_next = a0\n",
        "\n",
        "  for t in range(T_x):\n",
        "    # Update next hidden state\n",
        "    a_next, yt_pred, cache = rnn_cell_forward(x[:,:,t], a_next, parameters)\n",
        "\n",
        "    # Save the valye of the new \"next\" hidden state in a\n",
        "    a[:,:,t] = a_next\n",
        "\n",
        "    # Save the value of the prediction in y\n",
        "    y_pred[:,:,t] = yt_pred\n",
        "\n",
        "    # Append \"cache\" to \"caches\"\n",
        "    caches.append(cache)\n",
        "\n",
        "  caches = (caches, x)\n",
        "\n",
        "  return a, y_pred, caches\n"
      ],
      "metadata": {
        "id": "wMFLe6z2mDZ8"
      },
      "execution_count": 9,
      "outputs": []
    },
    {
      "cell_type": "code",
      "source": [
        "np.random.seed(1)\n",
        "x_tmp = np.random.randn(3, 10, 4)\n",
        "a0_tmp = np.random.randn(5, 10)\n",
        "parameters_tmp = {}\n",
        "parameters_tmp['Waa'] = np.random.randn(5, 5)\n",
        "parameters_tmp['Wax'] = np.random.randn(5, 3)\n",
        "parameters_tmp['Wya'] = np.random.randn(2, 5)\n",
        "parameters_tmp['ba'] = np.random.randn(5, 1)\n",
        "parameters_tmp['by'] = np.random.randn(2, 1)\n",
        "\n",
        "a_tmp, y_pred_tmp, caches_tmp = rnn_forward(x_tmp, a0_tmp, parameters_tmp)\n",
        "print(\"a[4][1] = \\n\", a_tmp[4][1])\n",
        "print(\"a.shape = \\n\", a_tmp.shape)\n",
        "print(\"y_pred[1][3] =\\n\", y_pred_tmp[1][3])\n",
        "print(\"y_pred.shape = \\n\", y_pred_tmp.shape)\n",
        "print(\"caches[1][1][3] =\\n\", caches_tmp[1][1][3])\n",
        "print(\"len(caches) = \\n\", len(caches_tmp))\n",
        "\n",
        "#UNIT TEST    \n",
        "rnn_forward_test(rnn_forward)"
      ],
      "metadata": {
        "colab": {
          "base_uri": "https://localhost:8080/"
        },
        "id": "lYZn6s0qnpNo",
        "outputId": "dfc7a033-91bc-467e-b0f2-a626f24cd54c"
      },
      "execution_count": 10,
      "outputs": [
        {
          "output_type": "stream",
          "name": "stdout",
          "text": [
            "a[4][1] = \n",
            " [-0.99999375  0.77911235 -0.99861469 -0.99833267]\n",
            "a.shape = \n",
            " (5, 10, 4)\n",
            "y_pred[1][3] =\n",
            " [0.79560373 0.86224861 0.11118257 0.81515947]\n",
            "y_pred.shape = \n",
            " (2, 10, 4)\n",
            "caches[1][1][3] =\n",
            " [-1.1425182  -0.34934272 -0.20889423  0.58662319]\n",
            "len(caches) = \n",
            " 2\n",
            "\u001b[92mAll tests passed\n"
          ]
        }
      ]
    },
    {
      "cell_type": "markdown",
      "source": [
        "### Situations when this RNN perform better:\n",
        "\n",
        "* This will work well enough for some applications, but it suffers from vanishing gradients\n",
        "* The RNN works best when each output y_pred can be estimated using \"local\" context.\n",
        "* \"Local\" context refers to information that is close to the predicition's time step *t*.\n",
        "* More formally, local context refers to inputs x<sup>(t')</sup> and prediction y where t' is close t\n",
        "\n",
        "<font color = \"blue\">**Points to remember:**</font>\n",
        "\n",
        "* The recurrent neural network, or RNN, is essentially the repeated use of single cell.\n",
        "* A basic RNN read inputs one at at time, and remembers information through the hidden layers activations that are passed from one time step to the next.\n",
        "  * The time step dimension determines how many times to reuse the RNN cell.\n",
        "* Each cell takes two inputs at each time step:\n",
        "  * The hidden state from the previous cell\n",
        "  * The current time step's input data.\n",
        "* Each cell has two outputs at each time step:\n",
        "  * A hidden state\n",
        "  * A prediction."
      ],
      "metadata": {
        "id": "oPE05ZW-nrim"
      }
    },
    {
      "cell_type": "markdown",
      "source": [
        "# 2 - Long Short-Term Memory (LSTM) Network\n",
        "\n",
        "LSTM are better at vanishing gradients. The LSTM is better able to remember a piece of information and save it for many time steps.\n",
        "\n",
        "\n",
        "### Overview of gates and states\n",
        "\n",
        "**Forget gate**\n",
        "\n",
        "* Let's assume we are reading words in a piece of text, and plan to use an LSTM to keep track of grammatical structures, such as whether the subject is singular (\"puppy\") or plural(\"puppies\").\n",
        "\n",
        "* If the subject changes its state, the memory of the previous state becomes outdates, so we'll forget that outdated state.\n",
        "\n",
        "* The \"forgot gate\" is a tensor containin values between 0 and 1.\n",
        "  * If a unit in the forget gate has a value close to 0, the LSTM will \"forget\" the stored state in the corresponding unit of the previous cell state.\n",
        "  * If a unit in the forget gate has value close to 1, the LSTM will mostly remmber the corresponding value in the stored state.\n",
        "\n",
        "**Candidate value c<sup>~(t)</sup>**\n",
        "\n",
        "* The candidate value is a tensor containing informatoin from the current time step that may be stored in the current cell state  c<sup>(t)</sup>.\n",
        "* The parts of the candidate value that get passed on depend on the update gate.\n",
        "* The candidate value is a tensor containing values that range from -1 to 1.\n",
        "\n",
        "**Update gate:**\n",
        "\n",
        "* We use the update gates to decide what aspects of the candidate to add to the cell state.\n",
        "* The update gate decids what parts of a \"candidate\" tensor are passed onto the cell state.\n",
        "* The update gate is a tensor containing values between 0 and 1.\n",
        "  * When a unit in the update gate is close to 1, it allows the value of the candidate to be passed onto the hidden state.\n",
        "  * When a unit in the update gate is close to 0, it prevents the correspoding value in the candidate from being passed onto the hidden state.\n",
        "\n",
        "**Cell state:**\n",
        "\n",
        "* The cell state is the \"memory\" that gets passes onto the future time steps.\n",
        "* The new cell state is a combination of the previous cell state and the candidate value.\n",
        "\n",
        "**Output gate:**\n",
        "* The output gate decides what gets sent as the prediction (output) of the step.\n",
        "* The output gate is like the other gates, in that it contains values that range from 0 to 1.\n",
        "\n",
        "### 2.1 LSTM Cell\n",
        "\n",
        "### Exercise 3 - lstm_cell_forward\n"
      ],
      "metadata": {
        "id": "jUHvFm_6ohsP"
      }
    },
    {
      "cell_type": "code",
      "source": [
        "def lstm_cell_forward(xt, a_prev, c_prev, parameters):\n",
        "    \"\"\"\n",
        "    Implement a single forward step of the LSTM-cell as described in Figure (4)\n",
        "\n",
        "    Arguments:\n",
        "    xt -- your input data at timestep \"t\", numpy array of shape (n_x, m).\n",
        "    a_prev -- Hidden state at timestep \"t-1\", numpy array of shape (n_a, m)\n",
        "    c_prev -- Memory state at timestep \"t-1\", numpy array of shape (n_a, m)\n",
        "    parameters -- python dictionary containing:\n",
        "                        Wf -- Weight matrix of the forget gate, numpy array of shape (n_a, n_a + n_x)\n",
        "                        bf -- Bias of the forget gate, numpy array of shape (n_a, 1)\n",
        "                        Wi -- Weight matrix of the update gate, numpy array of shape (n_a, n_a + n_x)\n",
        "                        bi -- Bias of the update gate, numpy array of shape (n_a, 1)\n",
        "                        Wc -- Weight matrix of the first \"tanh\", numpy array of shape (n_a, n_a + n_x)\n",
        "                        bc --  Bias of the first \"tanh\", numpy array of shape (n_a, 1)\n",
        "                        Wo -- Weight matrix of the output gate, numpy array of shape (n_a, n_a + n_x)\n",
        "                        bo --  Bias of the output gate, numpy array of shape (n_a, 1)\n",
        "                        Wy -- Weight matrix relating the hidden-state to the output, numpy array of shape (n_y, n_a)\n",
        "                        by -- Bias relating the hidden-state to the output, numpy array of shape (n_y, 1)\n",
        "                        \n",
        "    Returns:\n",
        "    a_next -- next hidden state, of shape (n_a, m)\n",
        "    c_next -- next memory state, of shape (n_a, m)\n",
        "    yt_pred -- prediction at timestep \"t\", numpy array of shape (n_y, m)\n",
        "    cache -- tuple of values needed for the backward pass, contains (a_next, c_next, a_prev, c_prev, xt, parameters)\n",
        "    \n",
        "    Note: ft/it/ot stand for the forget/update/output gates, cct stands for the candidate value (c tilde),\n",
        "          c stands for the cell state (memory)\n",
        "    \"\"\"\n",
        "    # Retrieve parameters from \"parameters\"\n",
        "    Wf = parameters[\"Wf\"] # forget gate weight\n",
        "    bf = parameters[\"bf\"]\n",
        "    Wi = parameters[\"Wi\"] # update gate weight (notice the variable name)\n",
        "    bi = parameters[\"bi\"] # (notice the variable name)\n",
        "    Wc = parameters[\"Wc\"] # candidate value weight\n",
        "    bc = parameters[\"bc\"]\n",
        "    Wo = parameters[\"Wo\"] # output gate weight\n",
        "    bo = parameters[\"bo\"]\n",
        "    Wy = parameters[\"Wy\"] # prediction weight\n",
        "    by = parameters[\"by\"]\n",
        "    \n",
        "    # Retrieve dimensions from shapes of xt and Wy\n",
        "    n_x, m = xt.shape\n",
        "    n_y, n_a = Wy.shape\n",
        "\n",
        "    ### START CODE HERE ###\n",
        "    # Concatenate a_prev and xt (≈1 line)\n",
        "    concat = np.concatenate([a_prev,xt])\n",
        "\n",
        "    # Compute values for ft, it, cct, c_next, ot, a_next using the formulas given figure (4) (≈6 lines)\n",
        "    ft = sigmoid(np.dot(Wf,concat) + bf) # Forget Gate\n",
        "    it = sigmoid(np.dot(Wi,concat) + bi) # Update Gate\n",
        "    cct = np.tanh(np.dot(Wc,concat) + bc) # Candidate Value\n",
        "    c_next = c_prev*ft + cct*it # C_t\n",
        "    ot = sigmoid(np.dot(Wo,concat) + bo) # output gate\n",
        "    a_next = ot*(np.tanh(c_next)) #a_t\n",
        "    \n",
        "    # Compute prediction of the LSTM cell (≈1 line)\n",
        "    yt_pred = softmax(np.dot(Wy,a_next) + by)\n",
        "    ### END CODE HERE ###\n",
        "\n",
        "    # store values needed for backward propagation in cache\n",
        "    cache = (a_next, c_next, a_prev, c_prev, ft, it, cct, ot, xt, parameters)\n",
        "\n",
        "    return a_next, c_next, yt_pred, cache"
      ],
      "metadata": {
        "id": "YFR1ZtIjp6ee"
      },
      "execution_count": 11,
      "outputs": []
    },
    {
      "cell_type": "code",
      "source": [
        "np.random.seed(1)\n",
        "xt_tmp = np.random.randn(3, 10)\n",
        "a_prev_tmp = np.random.randn(5, 10)\n",
        "c_prev_tmp = np.random.randn(5, 10)\n",
        "parameters_tmp = {}\n",
        "parameters_tmp['Wf'] = np.random.randn(5, 5 + 3)\n",
        "parameters_tmp['bf'] = np.random.randn(5, 1)\n",
        "parameters_tmp['Wi'] = np.random.randn(5, 5 + 3)\n",
        "parameters_tmp['bi'] = np.random.randn(5, 1)\n",
        "parameters_tmp['Wo'] = np.random.randn(5, 5 + 3)\n",
        "parameters_tmp['bo'] = np.random.randn(5, 1)\n",
        "parameters_tmp['Wc'] = np.random.randn(5, 5 + 3)\n",
        "parameters_tmp['bc'] = np.random.randn(5, 1)\n",
        "parameters_tmp['Wy'] = np.random.randn(2, 5)\n",
        "parameters_tmp['by'] = np.random.randn(2, 1)\n",
        "\n",
        "a_next_tmp, c_next_tmp, yt_tmp, cache_tmp = lstm_cell_forward(xt_tmp, a_prev_tmp, c_prev_tmp, parameters_tmp)\n",
        "\n",
        "print(\"a_next[4] = \\n\", a_next_tmp[4])\n",
        "print(\"a_next.shape = \", a_next_tmp.shape)\n",
        "print(\"c_next[2] = \\n\", c_next_tmp[2])\n",
        "print(\"c_next.shape = \", c_next_tmp.shape)\n",
        "print(\"yt[1] =\", yt_tmp[1])\n",
        "print(\"yt.shape = \", yt_tmp.shape)\n",
        "print(\"cache[1][3] =\\n\", cache_tmp[1][3])\n",
        "print(\"len(cache) = \", len(cache_tmp))\n",
        "\n",
        "# UNIT TEST\n",
        "lstm_cell_forward_test(lstm_cell_forward)"
      ],
      "metadata": {
        "colab": {
          "base_uri": "https://localhost:8080/"
        },
        "id": "30dDLP-HtnP0",
        "outputId": "88f407ac-f7b1-4b35-8be2-080363eba242"
      },
      "execution_count": 12,
      "outputs": [
        {
          "output_type": "stream",
          "name": "stdout",
          "text": [
            "a_next[4] = \n",
            " [-0.66408471  0.0036921   0.02088357  0.22834167 -0.85575339  0.00138482\n",
            "  0.76566531  0.34631421 -0.00215674  0.43827275]\n",
            "a_next.shape =  (5, 10)\n",
            "c_next[2] = \n",
            " [ 0.63267805  1.00570849  0.35504474  0.20690913 -1.64566718  0.11832942\n",
            "  0.76449811 -0.0981561  -0.74348425 -0.26810932]\n",
            "c_next.shape =  (5, 10)\n",
            "yt[1] = [0.79913913 0.15986619 0.22412122 0.15606108 0.97057211 0.31146381\n",
            " 0.00943007 0.12666353 0.39380172 0.07828381]\n",
            "yt.shape =  (2, 10)\n",
            "cache[1][3] =\n",
            " [-0.16263996  1.03729328  0.72938082 -0.54101719  0.02752074 -0.30821874\n",
            "  0.07651101 -1.03752894  1.41219977 -0.37647422]\n",
            "len(cache) =  10\n",
            "\u001b[92mAll tests passed\n"
          ]
        }
      ]
    },
    {
      "cell_type": "markdown",
      "source": [
        "## 2.2 -Forward Pass for LSTM\n",
        "After we have implemented one step of an LSTm, we can iterate this over it using a for loop to process a sequence of Tx inputs."
      ],
      "metadata": {
        "id": "m78AHkPVtrvH"
      }
    },
    {
      "cell_type": "code",
      "source": [
        "def lstm_forward(x, a0, parameters):\n",
        "    \"\"\"\n",
        "    Implement the forward propagation of the recurrent neural network using an LSTM-cell described in Figure (4).\n",
        "\n",
        "    Arguments:\n",
        "    x -- Input data for every time-step, of shape (n_x, m, T_x).\n",
        "    a0 -- Initial hidden state, of shape (n_a, m)\n",
        "    parameters -- python dictionary containing:\n",
        "                        Wf -- Weight matrix of the forget gate, numpy array of shape (n_a, n_a + n_x)\n",
        "                        bf -- Bias of the forget gate, numpy array of shape (n_a, 1)\n",
        "                        Wi -- Weight matrix of the update gate, numpy array of shape (n_a, n_a + n_x)\n",
        "                        bi -- Bias of the update gate, numpy array of shape (n_a, 1)\n",
        "                        Wc -- Weight matrix of the first \"tanh\", numpy array of shape (n_a, n_a + n_x)\n",
        "                        bc -- Bias of the first \"tanh\", numpy array of shape (n_a, 1)\n",
        "                        Wo -- Weight matrix of the output gate, numpy array of shape (n_a, n_a + n_x)\n",
        "                        bo -- Bias of the output gate, numpy array of shape (n_a, 1)\n",
        "                        Wy -- Weight matrix relating the hidden-state to the output, numpy array of shape (n_y, n_a)\n",
        "                        by -- Bias relating the hidden-state to the output, numpy array of shape (n_y, 1)\n",
        "                        \n",
        "    Returns:\n",
        "    a -- Hidden states for every time-step, numpy array of shape (n_a, m, T_x)\n",
        "    y -- Predictions for every time-step, numpy array of shape (n_y, m, T_x)\n",
        "    c -- The value of the cell state, numpy array of shape (n_a, m, T_x)\n",
        "    caches -- tuple of values needed for the backward pass, contains (list of all the caches, x)\n",
        "    \"\"\"\n",
        "# Initialize \"caches\", which will track the list of all the caches\n",
        "    caches = []\n",
        "    \n",
        "    ### START CODE HERE ###\n",
        "    #Wy = parameters['Wy'] # Save parameters in local variables in case you want to use Wy instead of parameters['Wy']\n",
        "    # Retrieve dimensions from shapes of x and parameters['Wy'] (≈2 lines)\n",
        "    n_x, m, T_x = x.shape\n",
        "    n_y, n_a = parameters['Wy'].shape\n",
        "    \n",
        "    # initialize \"a\", \"c\" and \"y\" with zeros (≈3 lines)\n",
        "    a = np.zeros((n_a,m,T_x))\n",
        "    c = np.zeros((n_a,m,T_x))\n",
        "    y = np.zeros((n_y,m,T_x))\n",
        "    \n",
        "    # Initialize a_next and c_next (≈2 lines)\n",
        "    a_next = a0\n",
        "    c_next = np.zeros((n_a,m))\n",
        "    \n",
        "    # loop over all time-steps\n",
        "    for t in range(T_x):\n",
        "        # Get the 2D slice 'xt' from the 3D input 'x' at time step 't'\n",
        "        xt = x[:,:,t]\n",
        "        # Update next hidden state, next memory state, compute the prediction, get the cache (≈1 line)\n",
        "        a_next, c_next, yt, cache = lstm_cell_forward(xt, a_next, c_next, parameters)\n",
        "        # Save the value of the new \"next\" hidden state in a (≈1 line)\n",
        "        a[:,:,t] = a_next\n",
        "        # Save the value of the next cell state (≈1 line)\n",
        "        c[:,:,t]  = c_next\n",
        "        # Save the value of the prediction in y (≈1 line)\n",
        "        y[:,:,t] = yt\n",
        "        # Append the cache into caches (≈1 line)\n",
        "        caches.append(cache)\n",
        "        \n",
        "    ### END CODE HERE ###\n",
        "    \n",
        "    # store values needed for backward propagation in cache\n",
        "    caches = (caches, x)\n",
        "    \n",
        "    return a, y, c, caches\n"
      ],
      "metadata": {
        "id": "ws6F7ZzPt7Je"
      },
      "execution_count": 14,
      "outputs": []
    },
    {
      "cell_type": "code",
      "source": [
        "np.random.seed(1)\n",
        "x_tmp = np.random.randn(3, 10, 7)\n",
        "a0_tmp = np.random.randn(5, 10)\n",
        "parameters_tmp = {}\n",
        "parameters_tmp['Wf'] = np.random.randn(5, 5 + 3)\n",
        "parameters_tmp['bf'] = np.random.randn(5, 1)\n",
        "parameters_tmp['Wi'] = np.random.randn(5, 5 + 3)\n",
        "parameters_tmp['bi']= np.random.randn(5, 1)\n",
        "parameters_tmp['Wo'] = np.random.randn(5, 5 + 3)\n",
        "parameters_tmp['bo'] = np.random.randn(5, 1)\n",
        "parameters_tmp['Wc'] = np.random.randn(5, 5 + 3)\n",
        "parameters_tmp['bc'] = np.random.randn(5, 1)\n",
        "parameters_tmp['Wy'] = np.random.randn(2, 5)\n",
        "parameters_tmp['by'] = np.random.randn(2, 1)\n",
        "\n",
        "a_tmp, y_tmp, c_tmp, caches_tmp = lstm_forward(x_tmp, a0_tmp, parameters_tmp)\n",
        "print(\"a[4][3][6] = \", a_tmp[4][3][6])\n",
        "print(\"a.shape = \", a_tmp.shape)\n",
        "print(\"y[1][4][3] =\", y_tmp[1][4][3])\n",
        "print(\"y.shape = \", y_tmp.shape)\n",
        "print(\"caches[1][1][1] =\\n\", caches_tmp[1][1][1])\n",
        "print(\"c[1][2][1]\", c_tmp[1][2][1])\n",
        "print(\"len(caches) = \", len(caches_tmp))\n",
        "\n",
        "# UNIT TEST    \n",
        "lstm_forward_test(lstm_forward)"
      ],
      "metadata": {
        "colab": {
          "base_uri": "https://localhost:8080/"
        },
        "id": "5P0eGMgLuJAQ",
        "outputId": "6dd2f7b4-ac24-4329-a446-371ca6616c6b"
      },
      "execution_count": 15,
      "outputs": [
        {
          "output_type": "stream",
          "name": "stdout",
          "text": [
            "a[4][3][6] =  0.17211776753291672\n",
            "a.shape =  (5, 10, 7)\n",
            "y[1][4][3] = 0.9508734618501101\n",
            "y.shape =  (2, 10, 7)\n",
            "caches[1][1][1] =\n",
            " [ 0.82797464  0.23009474  0.76201118 -0.22232814 -0.20075807  0.18656139\n",
            "  0.41005165]\n",
            "c[1][2][1] -0.8555449167181981\n",
            "len(caches) =  2\n",
            "\u001b[92mAll tests passed\n"
          ]
        }
      ]
    },
    {
      "cell_type": "markdown",
      "source": [
        "<font color = \"blue\">**Points to remember:**</font>\n",
        "\n",
        "* As LSTM is similar to RNN in that they both use hidden states to pass along information, but an LSTM alos uses a cell state, which is like a long-term memort, to help deal with the issue of vanishing gradients.\n",
        "* An LSTM cell consists of a cell state, or long-term memory, a hidden state, or short-time memory, along with 3 gates that constantly update the relevancy of its inputs:\n",
        "  * A **forgot** gate which decides which input units should be rememebered and passed along. It's tensor with values between 0 and 1.\n",
        "  * A **update** gate decides on what information to throw way, and what new informatoin to add.\n",
        "  * An **output** gate decides what gets sent as the output of the time step."
      ],
      "metadata": {
        "id": "5J-w_yKpuNLL"
      }
    },
    {
      "cell_type": "code",
      "source": [],
      "metadata": {
        "id": "4NxkcK7cvb1x"
      },
      "execution_count": null,
      "outputs": []
    }
  ]
}